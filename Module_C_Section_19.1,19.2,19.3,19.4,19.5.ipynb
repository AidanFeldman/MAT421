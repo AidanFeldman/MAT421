{
  "nbformat": 4,
  "nbformat_minor": 0,
  "metadata": {
    "colab": {
      "provenance": [],
      "authorship_tag": "ABX9TyOk02w2kt3qbArgpsZAoDlD",
      "include_colab_link": true
    },
    "kernelspec": {
      "name": "python3",
      "display_name": "Python 3"
    },
    "language_info": {
      "name": "python"
    }
  },
  "cells": [
    {
      "cell_type": "markdown",
      "metadata": {
        "id": "view-in-github",
        "colab_type": "text"
      },
      "source": [
        "<a href=\"https://colab.research.google.com/github/AidanFeldman/MAT421/blob/main/Module_C_Section_19.1%2C19.2%2C19.3%2C19.4%2C19.5.ipynb\" target=\"_parent\"><img src=\"https://colab.research.google.com/assets/colab-badge.svg\" alt=\"Open In Colab\"/></a>"
      ]
    },
    {
      "cell_type": "markdown",
      "source": [
        "# 19.1 Root Finding Problem Statement\n",
        "\n",
        "For quadratics, it is quite easy to find the roots of functions. However, adding in transcendental functions, it becomes much harder to analytically determine the root of a given function. Instead, it is easier to approximate the root with numerical methods."
      ],
      "metadata": {
        "id": "_HfWSHhku-fU"
      }
    },
    {
      "cell_type": "code",
      "execution_count": 12,
      "metadata": {
        "colab": {
          "base_uri": "https://localhost:8080/"
        },
        "id": "9WmDn3mwu9XU",
        "outputId": "4961349f-2928-4a40-9295-dfd9099bff12"
      },
      "outputs": [
        {
          "output_type": "stream",
          "name": "stdout",
          "text": [
            "r = [-0.70346742]\n",
            "result= [-3.83026943e-15]\n"
          ]
        }
      ],
      "source": [
        "import numpy as np\n",
        "import math\n",
        "from scipy import optimize\n",
        "\n",
        "f = lambda x: -x**2 + math.e**x\n",
        "r = optimize.fsolve(f, -2) # This will give us the root of the function near x=-4\n",
        "print(\"r =\", r)\n",
        "\n",
        "result = f(r) # This is used to verify that the output actually is a root.\n",
        "print(\"result=\", result) # This should output zero, or a number very close to it, if the numerically derived root is actually a root."
      ]
    },
    {
      "cell_type": "code",
      "source": [
        "import numpy as np\n",
        "import math\n",
        "from scipy import optimize\n",
        "\n",
        "f = lambda x: x**2 + math.e**x # This function has no root.\n",
        "r = optimize.fsolve(f, -2) # As such, this should return an error message saying that it can't optimize the function.\n",
        "print(\"r =\", r)\n",
        "\n",
        "result = f(r)\n",
        "print(\"result=\", result) "
      ],
      "metadata": {
        "colab": {
          "base_uri": "https://localhost:8080/"
        },
        "id": "Bznu4Lvq2Mrj",
        "outputId": "52cd5fde-884c-4180-ba87-c7c25349e511"
      },
      "execution_count": 13,
      "outputs": [
        {
          "output_type": "stream",
          "name": "stdout",
          "text": [
            "r = [-0.35166287]\n",
            "result= [0.82718403]\n"
          ]
        },
        {
          "output_type": "stream",
          "name": "stderr",
          "text": [
            "/usr/local/lib/python3.8/dist-packages/scipy/optimize/minpack.py:175: RuntimeWarning: The iteration is not making good progress, as measured by the \n",
            "  improvement from the last ten iterations.\n",
            "  warnings.warn(msg, RuntimeWarning)\n"
          ]
        }
      ]
    },
    {
      "cell_type": "markdown",
      "source": [
        "# 19.2 Tolerance\n",
        "\n",
        "Tolerance is the amount of error a computer program is willing to accept when returning a solution. If the computer's guess for the root returns an output less than the error, then the program will accept that guess as an actual root."
      ],
      "metadata": {
        "id": "zKmGvUHN23_7"
      }
    },
    {
      "cell_type": "markdown",
      "source": [
        "# 19.3 Bisection Method\n",
        "\n",
        "Intermediate Value Theorem states that if f is a function, for any value of f(c) such that f(a)>f(c)>f(b), there exists a value c such that a>c>b. For the purposes of roots, this means that for a function, if there is at least one positive and one negative output, then there must be a zero.\n",
        "\n",
        "The bisector method uses this by starting with any two values a and b, such that f(a) is positive and f(b) is negative. Then, it finds the midpoint m, such that $m=(a+b)/2$. If f(m) is positive, it becomes the new f(a) and if f(m) is negative, it becomes the new f(b). Then it repeats this step until f(m) is less than the tolerance. When that happens, m is said to be the root. "
      ],
      "metadata": {
        "id": "MI04YfMu3MQ6"
      }
    },
    {
      "cell_type": "code",
      "source": [
        "import numpy as np\n",
        "\n",
        "def my_bisection(f, a, b, tol): \n",
        "\n",
        "    if np.sign(f(a)) == np.sign(f(b)):\n",
        "        raise Exception(\n",
        "         \"There is no root in between a and b.\")\n",
        "        \n",
        "    m = (a + b)/2 # Derives the midpoint\n",
        "    \n",
        "    if np.abs(f(m)) < tol: # If m is close enough to zero, the function returns m.\n",
        "        return m\n",
        "    # If m isn't close enough to zero, check to see if m is positive or negative. If it's positive, replace the positive bound with m. If it's negative, replace the negative bound with m. Then repeat.\n",
        "    elif np.sign(f(a)) == np.sign(f(m)): \n",
        "        return my_bisection(f, m, b, tol)\n",
        "    \n",
        "    elif np.sign(f(b)) == np.sign(f(m)):\n",
        "        return my_bisection(f, a, m, tol)\n",
        "\n",
        "# Let's try using the two functions from section 19.1\n",
        "f = lambda x: -x**2 + math.e**x\n",
        "my_bisection(f,-2,2,0.01)"
      ],
      "metadata": {
        "colab": {
          "base_uri": "https://localhost:8080/"
        },
        "id": "K-cLy8FQ3L_2",
        "outputId": "ffd317a5-e301-4227-e9fe-6f69ce12c92e"
      },
      "execution_count": 18,
      "outputs": [
        {
          "output_type": "execute_result",
          "data": {
            "text/plain": [
              "-0.703125"
            ]
          },
          "metadata": {},
          "execution_count": 18
        }
      ]
    },
    {
      "cell_type": "markdown",
      "source": [
        "# 19.4 Newton-Raphson Method\n",
        "Linear approximation uses the derivative of a function and a point on it to approximate the shape of the function. Doing this, we can attempt to find the root of a function by moving along the function and seeing if it ever gets to within the tolerance."
      ],
      "metadata": {
        "id": "6LMA2Fvz3M2E"
      }
    },
    {
      "cell_type": "code",
      "source": [
        "from re import X\n",
        "def my_newton(f, df, x0, tol):\n",
        "    if abs(f(x0)) < tol: # If the x value we have is within the tolerance, output that as the answer.\n",
        "        return x0\n",
        "    else:\n",
        "        return my_newton(f, df, x0 - f(x0)/df(x0), tol) # If the x value we have is not within the tolerance, generate a new x value through newtonian linear approximation.\n",
        "\n",
        "f = lambda x: x + 1 / (x+5)**2 \n",
        "f_prime = lambda x: 1 - 2 / (x+5)**3\n",
        "estimate = my_newton(f, f_prime, -2, 0.001)\n",
        "print(\"estimate =\", estimate)\n",
        "print(\"sqrt(2) =\", np.sqrt(2))"
      ],
      "metadata": {
        "colab": {
          "base_uri": "https://localhost:8080/"
        },
        "id": "OgA9C0ABb1xo",
        "outputId": "aa1b4eb2-04bc-41ce-867a-9a9845b4639c"
      },
      "execution_count": 35,
      "outputs": [
        {
          "output_type": "stream",
          "name": "stdout",
          "text": [
            "estimate = -0.04062716149195125\n",
            "sqrt(2) = 1.4142135623730951\n"
          ]
        }
      ]
    },
    {
      "cell_type": "markdown",
      "source": [
        "# 19.5 Root Finding in Python\n",
        "Python has it's own built-in root-finding functions."
      ],
      "metadata": {
        "id": "KYHFq5ZnfjpO"
      }
    },
    {
      "cell_type": "code",
      "source": [
        "from scipy.optimize import fsolve\n",
        "\n",
        "f = lambda x: -x**2 + math.e**x\n",
        "\n",
        "fsolve(f, [-2, 100]) # Using Python's built-in root-finding functions, we can find the roots of this function from section 19.1. Though we input two initial guesses, it returned the same number twice, suggesting there is only one root."
      ],
      "metadata": {
        "colab": {
          "base_uri": "https://localhost:8080/"
        },
        "id": "x5KTotSXf3mJ",
        "outputId": "8ce88782-7a30-4179-8988-fa6f850a43e2"
      },
      "execution_count": 38,
      "outputs": [
        {
          "output_type": "execute_result",
          "data": {
            "text/plain": [
              "array([-0.70346742, -0.70346742])"
            ]
          },
          "metadata": {},
          "execution_count": 38
        }
      ]
    }
  ]
}