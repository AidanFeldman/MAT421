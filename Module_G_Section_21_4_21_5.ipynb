{
  "nbformat": 4,
  "nbformat_minor": 0,
  "metadata": {
    "colab": {
      "provenance": [],
      "authorship_tag": "ABX9TyO1DqhY9rVLQA8aYtta7g+k",
      "include_colab_link": true
    },
    "kernelspec": {
      "name": "python3",
      "display_name": "Python 3"
    },
    "language_info": {
      "name": "python"
    }
  },
  "cells": [
    {
      "cell_type": "markdown",
      "metadata": {
        "id": "view-in-github",
        "colab_type": "text"
      },
      "source": [
        "<a href=\"https://colab.research.google.com/github/AidanFeldman/MAT421/blob/main/Module_G_Section_21_4_21_5.ipynb\" target=\"_parent\"><img src=\"https://colab.research.google.com/assets/colab-badge.svg\" alt=\"Open In Colab\"/></a>"
      ]
    },
    {
      "cell_type": "markdown",
      "source": [
        "#21.4 Simpson's Rule\n",
        "**Simpson's rule** can be used to approximate the area under the curve for consecutive intervals. This means multiple equidistant intervals can be used to best guess the numerical solution of an integral."
      ],
      "metadata": {
        "id": "HmRKrs6xhQ-F"
      }
    },
    {
      "cell_type": "code",
      "execution_count": 9,
      "metadata": {
        "colab": {
          "base_uri": "https://localhost:8080/"
        },
        "id": "JDj3-TUvgP8c",
        "outputId": "adc66d73-3024-4b27-9eb2-142e6a6f4022"
      },
      "outputs": [
        {
          "output_type": "stream",
          "name": "stdout",
          "text": [
            "1.049424704864772\n",
            "-0.04942470486477202\n"
          ]
        }
      ],
      "source": [
        "import numpy as np\n",
        "\n",
        "a = 0\n",
        "b = np.pi/2\n",
        "n = 20\n",
        "h = (b - a) / (n - 1)\n",
        "x = np.linspace(a, b, n)\n",
        "f = np.cos(x)\n",
        "\n",
        "I_simp = (h/3) * (f[0] + 2*sum(f[:n-2:2]) \\\n",
        "            + 4*sum(f[1:n-1:2]) + f[n-1])\n",
        "err_simp = 1 - I_simp\n",
        "\n",
        "print(I_simp)\n",
        "print(err_simp)"
      ]
    },
    {
      "cell_type": "markdown",
      "source": [
        "# 21.5 Computing Integrals in Python\n",
        "\n",
        "There are certain computing algorithms built into python that can be used to solve numerically for an intergral over some interval.\n",
        "\n"
      ],
      "metadata": {
        "id": "4WmdI22ZkCdc"
      }
    },
    {
      "cell_type": "code",
      "source": [
        "from scipy.integrate import quad \n",
        "\n",
        "I_quad, est_err_quad = \\\n",
        "          quad(np.cos, 0, np.pi/2)\n",
        "print(I_quad)\n",
        "err_quad = 1 - I_quad\n",
        "print(est_err_quad, err_quad)"
      ],
      "metadata": {
        "colab": {
          "base_uri": "https://localhost:8080/"
        },
        "id": "mmRYUnKQkd_w",
        "outputId": "b6cb6102-f687-4a21-f822-aea608f4a906"
      },
      "execution_count": 10,
      "outputs": [
        {
          "output_type": "stream",
          "name": "stdout",
          "text": [
            "0.9999999999999999\n",
            "1.1102230246251564e-14 1.1102230246251565e-16\n"
          ]
        }
      ]
    }
  ]
}