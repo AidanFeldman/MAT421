{
  "nbformat": 4,
  "nbformat_minor": 0,
  "metadata": {
    "colab": {
      "provenance": [],
      "authorship_tag": "ABX9TyM3gVIe82Gc4V3lIPy/3iJS",
      "include_colab_link": true
    },
    "kernelspec": {
      "name": "python3",
      "display_name": "Python 3"
    },
    "language_info": {
      "name": "python"
    }
  },
  "cells": [
    {
      "cell_type": "markdown",
      "metadata": {
        "id": "view-in-github",
        "colab_type": "text"
      },
      "source": [
        "<a href=\"https://colab.research.google.com/github/AidanFeldman/MAT421/blob/main/Untitled0.ipynb\" target=\"_parent\"><img src=\"https://colab.research.google.com/assets/colab-badge.svg\" alt=\"Open In Colab\"/></a>"
      ]
    },
    {
      "cell_type": "markdown",
      "source": [
        "# 9.1: Base-N and Binary"
      ],
      "metadata": {
        "id": "VdN-VRGPIbNZ"
      }
    },
    {
      "cell_type": "code",
      "source": [
        "746 == 6*(10**0) + 4*(10**1) + 7*(10**2)\n",
        "# This demonstrates the decimal expansion in base ten."
      ],
      "metadata": {
        "id": "5P4Cpcwos-m3",
        "outputId": "335474f5-dd52-431c-d91c-dd71af6c2b6f",
        "colab": {
          "base_uri": "https://localhost:8080/"
        }
      },
      "execution_count": 4,
      "outputs": [
        {
          "output_type": "execute_result",
          "data": {
            "text/plain": [
              "True"
            ]
          },
          "metadata": {},
          "execution_count": 4
        }
      ]
    },
    {
      "cell_type": "code",
      "source": [
        "bin(746)"
      ],
      "metadata": {
        "id": "15A9xcyIJaP7",
        "outputId": "d11574d5-d740-4796-cc68-4bbf7e985649",
        "colab": {
          "base_uri": "https://localhost:8080/",
          "height": 36
        }
      },
      "execution_count": 5,
      "outputs": [
        {
          "output_type": "execute_result",
          "data": {
            "text/plain": [
              "'0b1011101010'"
            ],
            "application/vnd.google.colaboratory.intrinsic+json": {
              "type": "string"
            }
          },
          "metadata": {},
          "execution_count": 5
        }
      ]
    },
    {
      "cell_type": "code",
      "source": [
        "0b1011101010 == 0*(2**0) + 1*(2**1) + 0*(2**2) + 1*(2**3) + 0*(2**4) + 1*(2**5) + 1*(2**6) + 1*(2**7) + 0*(2**8) + 1*(2**9)\n",
        "# Expansion works similarly for base two (or any other base) but using that base as the base for the exponents in expansion."
      ],
      "metadata": {
        "id": "amBxg-oOJchH",
        "outputId": "0e6c84e8-23df-4fdd-e26b-a31b55a2c737",
        "colab": {
          "base_uri": "https://localhost:8080/"
        }
      },
      "execution_count": 6,
      "outputs": [
        {
          "output_type": "execute_result",
          "data": {
            "text/plain": [
              "True"
            ]
          },
          "metadata": {},
          "execution_count": 6
        }
      ]
    },
    {
      "cell_type": "code",
      "source": [
        "# bin(8)=1000\n",
        "# bin(12)=1100\n",
        "# bin(8)+bin(12)=10100\n",
        "8 + 12 == 0*(2**0) + 0*(2**1) + 1*(2**2) + 0*(2**3) + 1*(2**4)\n",
        "# Binary addition is commutative."
      ],
      "metadata": {
        "id": "LDKR81gEKiVt",
        "outputId": "3d0aa906-f8d6-4b19-dbc9-b9a6244098bf",
        "colab": {
          "base_uri": "https://localhost:8080/"
        }
      },
      "execution_count": 20,
      "outputs": [
        {
          "output_type": "execute_result",
          "data": {
            "text/plain": [
              "True"
            ]
          },
          "metadata": {},
          "execution_count": 20
        }
      ]
    },
    {
      "cell_type": "code",
      "source": [
        "# bin(8)=1000\n",
        "# bin(12)=1100\n",
        "# bin(8)*bin(12)=1100000\n",
        "8 * 12 == 1*(2**5) + 1*(2**6)\n",
        "# Binary multiplication is commutative."
      ],
      "metadata": {
        "id": "dywyjp0RMTZk",
        "outputId": "82bba70a-6ccc-449c-9e01-70c4b84d0dc5",
        "colab": {
          "base_uri": "https://localhost:8080/"
        }
      },
      "execution_count": 21,
      "outputs": [
        {
          "output_type": "execute_result",
          "data": {
            "text/plain": [
              "True"
            ]
          },
          "metadata": {},
          "execution_count": 21
        }
      ]
    },
    {
      "cell_type": "markdown",
      "source": [
        "# 9.2: Floating Point Numbers\n"
      ],
      "metadata": {
        "id": "qWrPldGyMndG"
      }
    },
    {
      "cell_type": "markdown",
      "source": [
        "From [Python Programming and Numerical Methods](https://pythonnumericalmethods.berkeley.edu/notebooks/chapter09.02-Floating-Point-Numbers.html):\n",
        "\n",
        "> A float can then be represented as:\n",
        "\n",
        "> n=(−1)^s*2^(e−1023)*(1+f)"
      ],
      "metadata": {
        "id": "Q1tWH1MqM9Z4"
      }
    },
    {
      "cell_type": "code",
      "source": [
        "# Take the float, 1 10000010000 1000100000000000000000000000000000000000000000000000.\n",
        "# Breaking it down, the first 1 simply indicates that the sign of the f is negative.\n",
        "# Next, convert the exponent from bianry to decimal:\n",
        "int(0b10000010000)"
      ],
      "metadata": {
        "id": "0isPr2uoMyO1",
        "outputId": "38b0d74e-1560-44d2-a5fa-4476c520c275",
        "colab": {
          "base_uri": "https://localhost:8080/"
        }
      },
      "execution_count": 22,
      "outputs": [
        {
          "output_type": "execute_result",
          "data": {
            "text/plain": [
              "1040"
            ]
          },
          "metadata": {},
          "execution_count": 22
        }
      ]
    },
    {
      "cell_type": "code",
      "source": [
        "# Subtract the exponent by 1023:\n",
        "1040-1023"
      ],
      "metadata": {
        "id": "hVt3ic7yPS94",
        "outputId": "4278ef04-5e06-44a0-dc1d-15bcb5307f39",
        "colab": {
          "base_uri": "https://localhost:8080/"
        }
      },
      "execution_count": 23,
      "outputs": [
        {
          "output_type": "execute_result",
          "data": {
            "text/plain": [
              "17"
            ]
          },
          "metadata": {},
          "execution_count": 23
        }
      ]
    },
    {
      "cell_type": "code",
      "source": [
        "# Now we will find the fraction:\n",
        "# 1000100000000000000000000000000000000000000000000000 = 1*(2**-1) + ... + 1*(2**-5) + .... 1*(2**-52)\n",
        "1*(2**-1) + 1*(2**-5)"
      ],
      "metadata": {
        "id": "A59fI_u-P0ni",
        "outputId": "f9d744c5-4a70-4a2f-a83f-31abb2d0e543",
        "colab": {
          "base_uri": "https://localhost:8080/"
        }
      },
      "execution_count": 29,
      "outputs": [
        {
          "output_type": "execute_result",
          "data": {
            "text/plain": [
              "0.53125"
            ]
          },
          "metadata": {},
          "execution_count": 29
        }
      ]
    },
    {
      "cell_type": "code",
      "source": [
        "# Putting this altogether we get:\n",
        "(-1)**1*2**17*(1+0.53125)"
      ],
      "metadata": {
        "id": "fuj3JGHYQwDV",
        "outputId": "e74b90c9-a29f-456a-e2b9-1fe89ebd0f9c",
        "colab": {
          "base_uri": "https://localhost:8080/"
        }
      },
      "execution_count": 31,
      "outputs": [
        {
          "output_type": "execute_result",
          "data": {
            "text/plain": [
              "-200704.0"
            ]
          },
          "metadata": {},
          "execution_count": 31
        }
      ]
    },
    {
      "cell_type": "markdown",
      "source": [
        "# 9.3: Round-off Errors"
      ],
      "metadata": {
        "id": "2jepUUSnRJR0"
      }
    },
    {
      "cell_type": "code",
      "source": [
        "# Because python doesn't use the exact values for decimals and only approximates them, this causes some rounding errors.\n",
        "# Here is an example of such a rounding error:\n",
        "4.9 - 4.875 == 0.025"
      ],
      "metadata": {
        "id": "OjHzjC12RUdl",
        "outputId": "29166eeb-f43f-474c-a33e-245de067ac28",
        "colab": {
          "base_uri": "https://localhost:8080/"
        }
      },
      "execution_count": 32,
      "outputs": [
        {
          "output_type": "execute_result",
          "data": {
            "text/plain": [
              "False"
            ]
          },
          "metadata": {},
          "execution_count": 32
        }
      ]
    },
    {
      "cell_type": "code",
      "source": [
        "# Here is what python calculates that to actually be:\n",
        "4.9 - 4.875"
      ],
      "metadata": {
        "id": "RqaS-4xmRzcQ",
        "outputId": "9ca9c516-7c9f-499f-c9cd-f1a35cc578ba",
        "colab": {
          "base_uri": "https://localhost:8080/"
        }
      },
      "execution_count": 33,
      "outputs": [
        {
          "output_type": "execute_result",
          "data": {
            "text/plain": [
              "0.025000000000000355"
            ]
          },
          "metadata": {},
          "execution_count": 33
        }
      ]
    },
    {
      "cell_type": "code",
      "source": [
        "# This can be solved through rounding:\n",
        "round(4.9 - 4.875, 5) == 0.025"
      ],
      "metadata": {
        "id": "SQcjZePNR6go",
        "outputId": "71ad5f0c-2535-4e61-be19-f38ed77eb19e",
        "colab": {
          "base_uri": "https://localhost:8080/"
        }
      },
      "execution_count": 34,
      "outputs": [
        {
          "output_type": "execute_result",
          "data": {
            "text/plain": [
              "True"
            ]
          },
          "metadata": {},
          "execution_count": 34
        }
      ]
    },
    {
      "cell_type": "code",
      "source": [
        "# Doing this calculation once works fine:\n",
        "2.7 + 4/9 - 4/9"
      ],
      "metadata": {
        "id": "7nb31GNeSIu5",
        "outputId": "5ad85a47-fe65-4fbe-d2d1-4d54f53c479c",
        "colab": {
          "base_uri": "https://localhost:8080/"
        }
      },
      "execution_count": 43,
      "outputs": [
        {
          "output_type": "execute_result",
          "data": {
            "text/plain": [
              "2.7"
            ]
          },
          "metadata": {},
          "execution_count": 43
        }
      ]
    },
    {
      "cell_type": "code",
      "source": [
        "# Doing this calculation 100 times reveals error:\n",
        "def add_and_subtract(iterations):\n",
        "    result = 2.7\n",
        "    \n",
        "    for i in range(iterations):\n",
        "        result += 4/9\n",
        "\n",
        "    for i in range(iterations):\n",
        "        result -= 4/9\n",
        "    return result\n",
        "add_and_subtract(100)"
      ],
      "metadata": {
        "id": "bByoxMP3TDJo",
        "outputId": "0090b3f7-e2da-4388-e504-11afdde7966e",
        "colab": {
          "base_uri": "https://localhost:8080/"
        }
      },
      "execution_count": 45,
      "outputs": [
        {
          "output_type": "execute_result",
          "data": {
            "text/plain": [
              "2.6999999999999993"
            ]
          },
          "metadata": {},
          "execution_count": 45
        }
      ]
    }
  ]
}