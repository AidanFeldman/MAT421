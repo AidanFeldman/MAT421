{
  "nbformat": 4,
  "nbformat_minor": 0,
  "metadata": {
    "colab": {
      "provenance": [],
      "authorship_tag": "ABX9TyM7NpoCiXEZ2WW22dyhbV/0",
      "include_colab_link": true
    },
    "kernelspec": {
      "name": "python3",
      "display_name": "Python 3"
    },
    "language_info": {
      "name": "python"
    }
  },
  "cells": [
    {
      "cell_type": "markdown",
      "metadata": {
        "id": "view-in-github",
        "colab_type": "text"
      },
      "source": [
        "<a href=\"https://colab.research.google.com/github/AidanFeldman/MAT421/blob/main/Section_3.2_3.3.ipynb\" target=\"_parent\"><img src=\"https://colab.research.google.com/assets/colab-badge.svg\" alt=\"Open In Colab\"/></a>"
      ]
    },
    {
      "cell_type": "markdown",
      "source": [
        "# 3.2 Continuity and Differentiation\n",
        "The value that a function approaches at a certain value $x=x_0$ is known as the **limit** at $x_0$ represented as $lim_{x->x_0}f(x)$.\n",
        "\n",
        "The rate at which the function is changing at a given value $x=x_0$ is known as the **derivative** at $x_0$ represented as $f'(x_0)=lim_{h->0}\\frac{f(x_0+h)-f(x_0)}{h}$\n",
        "\n",
        "The **partial derivative** of a function examines the rate of a change of a multi-variable function in terms of one of those variables. \n",
        "\n",
        "If a function f is differentiable over [a,b], then **Taylor's Theorem** says that $f(b)=f(a)+(b-a)f'(a)+\\frac{1}{2}(b-a)^2f''(a)+...+\\frac{(b-a)^{m-1}}{(m-1)!}f^{m-1}(a)+R_m$ where $R_m=\\frac{(b-a)^{m}}{m!}f^{m}(a+c(b-a))$ such that $0<c<1$."
      ],
      "metadata": {
        "id": "ShiHyljLRREf"
      }
    },
    {
      "cell_type": "markdown",
      "source": [
        "# 3.3 Unconstrained Optimization\n",
        "\n",
        "To find a **local minimimum or maximimum**, one can find the zeroes of the derivative where the zeroes are represented such that $x_1<x_2<...<x_n$. Minimums and maximums can only occur at points x such that $f'(x)=0$. After finding the zeroes, find the derivatives at any x in between those zeroes looking only at the derivatives sign. If the derivative between $x_n$ and $x_{n-1}$ is opposite the sign of the derivative between $x_n$ and $x_{n+1}$ then that is a local extrema. If the former is positive and the latter is negative, then $x_n$ is a local maximum. If the former is negative and the latter is positive, then $x_n$ is a local minimum. To find the absolute maximum, compare the local maximums and the constraints of the domain and whichever is largest is it. The same is true for the absolute minimum except for local minimums and whichever is smallest.\n"
      ],
      "metadata": {
        "id": "F4NlioyuUPnu"
      }
    }
  ]
}